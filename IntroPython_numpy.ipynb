{
  "nbformat": 4,
  "nbformat_minor": 0,
  "metadata": {
    "colab": {
      "provenance": []
    },
    "kernelspec": {
      "name": "python3",
      "display_name": "Python 3"
    },
    "language_info": {
      "name": "python"
    }
  },
  "cells": [
    {
      "cell_type": "markdown",
      "source": [
        "# Introduzione a Python e NumPy\n",
        "## 1. Fondamenti di Python\n",
        "Python è un linguaggio di programmazione di alto livello noto per la sua semplicità e leggibilità. È ampiamente utilizzato in diversi ambiti, tra cui l'analisi dei dati, l'apprendimento automatico e il calcolo scientifico. In questa sezione, copriremo alcuni concetti di base di Python.\n",
        "\n",
        "Variabili e tipi di dati\n",
        "In Python, puoi assegnare valori alle variabili utilizzando l'operatore di assegnazione (=). Python supporta vari tipi di dati, come interi, float, stringhe, booleani e altro ancora.\n",
        "\n",
        "\n",
        "Per eseguire le celle: Shift + Invio\n",
        "\n",
        "\n",
        "PS: Non spaventarti se nel corso di questo  tutorial vedi tante funzioni. Non sono da imparare a memoria,  però l'importante è sapere che esistono funzioni già implementate che svolgono compiti anche complessi!"
      ],
      "metadata": {
        "id": "kknR5jsz6N5l"
      }
    },
    {
      "cell_type": "code",
      "source": [
        "# Variabile intera\n",
        "x = 10\n",
        "\n",
        "# Variabile float\n",
        "y = 3.14\n",
        "\n",
        "# Variabile stringa\n",
        "nome = \"Mario Rossi\"\n",
        "\n",
        "# Variabile booleana\n",
        "its_true = True"
      ],
      "metadata": {
        "id": "xgSJVT0h6S9-"
      },
      "execution_count": null,
      "outputs": []
    },
    {
      "cell_type": "markdown",
      "source": [
        "## Liste e indicizzazione\n",
        "Le liste sono collezioni ordinate di elementi. Puoi definire una lista racchiudendo gli elementi tra parentesi quadre ([]). Python utilizza l'indicizzazione basata su zero per accedere agli elementi in una lista."
      ],
      "metadata": {
        "id": "a0mBah9X6klu"
      }
    },
    {
      "cell_type": "code",
      "source": [
        "# Lista di numeri\n",
        "numeri = [1, 2, 3, 4, 5]\n",
        "\n",
        "# Accesso agli elementi\n",
        "print(numeri[0])  # Output: 1\n",
        "print(numeri[2])  # Output: 3\n",
        "\n",
        "# Estrarre una porzione di lista\n",
        "print(numeri[1:4])  # Output: [2, 3, 4]"
      ],
      "metadata": {
        "colab": {
          "base_uri": "https://localhost:8080/"
        },
        "id": "0BHy0WeV6XrP",
        "outputId": "8888c54a-3d60-45ea-a46e-6958047116c0"
      },
      "execution_count": null,
      "outputs": [
        {
          "output_type": "stream",
          "name": "stdout",
          "text": [
            "1\n",
            "3\n",
            "[2, 3, 4]\n"
          ]
        }
      ]
    },
    {
      "cell_type": "markdown",
      "source": [
        "## Istruzioni di controllo del flusso\n",
        "Python fornisce istruzioni di controllo del flusso come if, for e while per controllare l'esecuzione del codice in base a determinate condizioni."
      ],
      "metadata": {
        "id": "7CZpIuYD6p1g"
      }
    },
    {
      "cell_type": "code",
      "source": [
        "# Istruzione if\n",
        "x = 10\n",
        "if x > 5:\n",
        "    print(\"x è maggiore di 5\")\n",
        "else:\n",
        "    print(\"x è minore o uguale a 5\")\n",
        "\n",
        "# Ciclo for\n",
        "frutta = [\"mela\", \"banana\", \"ciliegia\"]\n",
        "for frutto in frutta:\n",
        "    print(frutto)\n",
        "\n",
        "# Ciclo while\n",
        "i = 0\n",
        "while i < 5:\n",
        "    print(i)\n",
        "    i += 1"
      ],
      "metadata": {
        "colab": {
          "base_uri": "https://localhost:8080/"
        },
        "id": "cIQ-vY-P6noN",
        "outputId": "b211561e-49a2-4846-f929-c705a0d2054e"
      },
      "execution_count": null,
      "outputs": [
        {
          "output_type": "stream",
          "name": "stdout",
          "text": [
            "x è maggiore di 5\n",
            "mela\n",
            "banana\n",
            "ciliegia\n",
            "0\n",
            "1\n",
            "2\n",
            "3\n",
            "4\n"
          ]
        }
      ]
    },
    {
      "cell_type": "markdown",
      "source": [
        "# 2. Concetti di base di NumPy\n",
        "NumPy (Numerical Python) è una potente libreria per il calcolo scientifico in Python. Fornisce efficienti oggetti di matrici multidimensionali e una vasta gamma di funzioni matematiche. Esploriamo alcuni dei suoi concetti di base.\n",
        "\n",
        "## Installazione\n",
        "Se non hai ancora installato NumPy, puoi farlo utilizzando pip:\n",
        "\n",
        "! pip install numpy #non è necessario farlo qui perchè è già installato. Con il ! si indica un comando da passare al terminale e quindi da interpretare non con python\n",
        "\n",
        "\n",
        "## Importazione di NumPy\n",
        "Per utilizzare NumPy nel tuo codice Python, è necessario importarlo:"
      ],
      "metadata": {
        "id": "shgXHzie6vIz"
      }
    },
    {
      "cell_type": "code",
      "source": [
        "import numpy as np\n",
        "\n",
        "#as indica l'alias con cui vuoi chiamare facilmente numpy - lo vedrai spesso"
      ],
      "metadata": {
        "id": "cUD-ES6m6tkt"
      },
      "execution_count": null,
      "outputs": []
    },
    {
      "cell_type": "markdown",
      "source": [
        "## Array NumPy\n",
        "Gli array NumPy sono simili alle liste, ma sono più efficienti per gestire grandi quantità di dati. Possono avere più dimensioni, come array 1D, array 2D, e così via.\n",
        "\n"
      ],
      "metadata": {
        "id": "6ZyNay2U7JcC"
      }
    },
    {
      "cell_type": "code",
      "source": [
        "# Array 1D\n",
        "arr1 = np.array([1, 2, 3, 4, 5])\n",
        "print(arr1)\n",
        "\n",
        "# Array 2D\n",
        "arr2 = np.array([[1, 2, 3], [4, 5, 6]])\n",
        "print(arr2)"
      ],
      "metadata": {
        "colab": {
          "base_uri": "https://localhost:8080/"
        },
        "id": "emrcTUeE7F2A",
        "outputId": "318b3f04-e351-4b34-925d-1a856a18e55b"
      },
      "execution_count": null,
      "outputs": [
        {
          "output_type": "stream",
          "name": "stdout",
          "text": [
            "[1 2 3 4 5]\n",
            "[[1 2 3]\n",
            " [4 5 6]]\n"
          ]
        }
      ]
    },
    {
      "cell_type": "markdown",
      "source": [
        "## Attributi degli array\n",
        "Gli array NumPy hanno diversi attributi che forniscono informazioni sulla loro forma, dimensione e tipo di dati.\n"
      ],
      "metadata": {
        "id": "tprP301Q7Q7R"
      }
    },
    {
      "cell_type": "code",
      "source": [
        "arr = np.array([1, 2, 3, 4, 5])\n",
        "\n",
        "print(\"Forma:\", arr.shape)\n",
        "print(\"Dimensione:\", arr.size)\n",
        "print(\"Tipo di dati:\", arr.dtype)"
      ],
      "metadata": {
        "colab": {
          "base_uri": "https://localhost:8080/"
        },
        "id": "7JhJEJRi7PJt",
        "outputId": "125c0b67-6b15-423f-c0b2-ae48175a004c"
      },
      "execution_count": null,
      "outputs": [
        {
          "output_type": "stream",
          "name": "stdout",
          "text": [
            "Forma: (5,)\n",
            "Dimensione: 5\n",
            "Tipo di dati: int64\n"
          ]
        }
      ]
    },
    {
      "cell_type": "markdown",
      "source": [
        "## Operazioni sugli array\n",
        "NumPy fornisce varie operazioni matematiche che possono essere applicate agli array, come operazioni elemento per elemento, operazioni matriciali e funzioni statistiche."
      ],
      "metadata": {
        "id": "OgjhCgKj7W0p"
      }
    },
    {
      "cell_type": "code",
      "source": [
        "arr1 = np.array([1, 2, 3])\n",
        "arr2 = np.array([4, 5, 6])\n",
        "\n",
        "# Operazioni elemento per elemento\n",
        "print(arr1 + arr2)  # Output: [5, 7, 9]\n",
        "print(arr1 * arr2)  # Output: [4, 10, 18]\n",
        "\n",
        "# Prodotto matriciale\n",
        "result = np.dot(arr1, arr2)\n",
        "print(result)  # Output: 32\n",
        "\n",
        "# Funzioni statistiche\n",
        "print(np.mean(arr1))  # Output: 2.0\n",
        "print(np.max(arr2))  # Output: 6"
      ],
      "metadata": {
        "colab": {
          "base_uri": "https://localhost:8080/"
        },
        "id": "2ydIJUKP7U0s",
        "outputId": "71203583-34e0-4b6c-c09e-0c6986b9c6b5"
      },
      "execution_count": null,
      "outputs": [
        {
          "output_type": "stream",
          "name": "stdout",
          "text": [
            "[5 7 9]\n",
            "[ 4 10 18]\n",
            "32\n",
            "2.0\n",
            "6\n"
          ]
        }
      ]
    },
    {
      "cell_type": "markdown",
      "source": [
        "## Calcolare la media, la deviazione standard e altre statistiche\n",
        "NumPy fornisce diverse funzioni per calcolare statistiche di base sugli array."
      ],
      "metadata": {
        "id": "_u5mO-aS7bU6"
      }
    },
    {
      "cell_type": "code",
      "source": [
        "arr = np.array([1, 2, 3, 4, 5])\n",
        "\n",
        "# Calcolare la media\n",
        "mean = np.mean(arr)\n",
        "print(\"Media:\", mean)  # Output: 3.0\n",
        "\n",
        "# Calcolare la deviazione standard\n",
        "std = np.std(arr)\n",
        "print(\"Deviazione standard:\", std)  # Output: 1.4142135623730951\n",
        "\n",
        "# Calcolare la varianza\n",
        "var = np.var(arr)\n",
        "print(\"Varianza:\", var)  # Output: 2.0\n",
        "\n",
        "# Calcolare il valore massimo\n",
        "max_value = np.max(arr)\n",
        "print(\"Valore massimo:\", max_value)  # Output: 5\n",
        "\n",
        "# Calcolare il valore minimo\n",
        "min_value = np.min(arr)\n",
        "print(\"Valore minimo:\", min_value)  # Output: 1\n",
        "\n",
        "# Calcolare la somma degli elementi\n",
        "sum_value = np.sum(arr)\n",
        "print(\"Somma degli elementi:\", sum_value)  # Output: 15"
      ],
      "metadata": {
        "colab": {
          "base_uri": "https://localhost:8080/"
        },
        "id": "Te6eBYEI7alV",
        "outputId": "1f3554d7-1860-4f32-f86b-53d5127f900a"
      },
      "execution_count": null,
      "outputs": [
        {
          "output_type": "stream",
          "name": "stdout",
          "text": [
            "Media: 3.0\n",
            "Deviazione standard: 1.4142135623730951\n",
            "Varianza: 2.0\n",
            "Valore massimo: 5\n",
            "Valore minimo: 1\n",
            "Somma degli elementi: 15\n"
          ]
        }
      ]
    },
    {
      "cell_type": "code",
      "source": [
        "arr = np.array([1, 2, 3, 4, 5])\n",
        "\n",
        "# Esempio di operazioni matematiche\n",
        "squared = np.square(arr)  # Eleva al quadrato ogni elemento\n",
        "print(\"Al quadrato:\", squared)  # Output: [ 1,  4,  9, 16, 25]\n",
        "\n",
        "square_root = np.sqrt(arr)  # Calcola la radice quadrata di ogni elemento\n",
        "print(\"Radice quadrata:\", square_root)  # Output: [1.        , 1.41421356, 1.73205081, 2.        , 2.23606798]\n",
        "\n",
        "exponential = np.exp(arr)  # Calcola l'esponenziale di ogni elemento\n",
        "print(\"Esponenziale:\", exponential)  # Output: [  2.71828183,   7.3890561 ,  20.08553692,  54.59815003, 148.4131591 ]\n",
        "\n",
        "# Operazioni su array multidimensionali\n",
        "arr2d = np.array([[1, 2], [3, 4]])\n",
        "\n",
        "# Somma di tutti gli elementi dell'array\n",
        "sum_all = np.sum(arr2d)\n",
        "print(\"Somma totale:\", sum_all)  # Output: 10\n",
        "\n",
        "# Somma per colonne\n",
        "sum_cols = np.sum(arr2d, axis=0)\n",
        "print(\"Somma per colonne:\", sum_cols)  # Output: [4, 6]\n",
        "\n",
        "# Somma per righe\n",
        "sum_rows = np.sum(arr2d, axis=1)\n",
        "print(\"Somma per righe:\", sum_rows)  # Output: [3, 7]"
      ],
      "metadata": {
        "colab": {
          "base_uri": "https://localhost:8080/"
        },
        "id": "XpLxyWrz7rZt",
        "outputId": "c16c9360-2dcb-447c-c889-101f3f8fed52"
      },
      "execution_count": null,
      "outputs": [
        {
          "output_type": "stream",
          "name": "stdout",
          "text": [
            "Al quadrato: [ 1  4  9 16 25]\n",
            "Radice quadrata: [1.         1.41421356 1.73205081 2.         2.23606798]\n",
            "Esponenziale: [  2.71828183   7.3890561   20.08553692  54.59815003 148.4131591 ]\n",
            "Somma totale: 10\n",
            "Somma per colonne: [4 6]\n",
            "Somma per righe: [3 7]\n"
          ]
        }
      ]
    },
    {
      "cell_type": "markdown",
      "source": [
        "Altre funzioni piu complesse di numpy (Vedi l'ultima che sarà fondamentale)"
      ],
      "metadata": {
        "id": "E8FWXxslNuHB"
      }
    },
    {
      "cell_type": "code",
      "source": [
        "# Creare un array di valori casuali\n",
        "random_array = np.random.rand(3, 3)\n",
        "print(\"Array casuale:\")\n",
        "print(random_array)\n",
        "\n",
        "# Trasporre un array\n",
        "transposed_array = np.transpose(random_array)\n",
        "print(\"Array trasposto:\")\n",
        "print(transposed_array)\n",
        "\n",
        "# Calcolare il prodotto di matrici\n",
        "matrix1 = np.random.rand(2, 3)\n",
        "matrix2 = np.random.rand(3, 4)\n",
        "matrix_product = np.dot(matrix1, matrix2)\n",
        "print(\"Prodotto di matrici:\")\n",
        "print(matrix_product)\n",
        "\n",
        "# Calcolare l'inversa di una matrice\n",
        "matrix = np.array([[1, 2], [3, 4]])\n",
        "inverse_matrix = np.linalg.inv(matrix)\n",
        "print(\"Matrice inversa:\")\n",
        "print(inverse_matrix)\n",
        "\n",
        "# Risolvere un sistema lineare\n",
        "A = np.array([[2, 1], [1, 3]])\n",
        "b = np.array([3, 5])\n",
        "solution = np.linalg.solve(A, b)\n",
        "print(\"Soluzione del sistema lineare:\")\n",
        "print(solution)\n",
        "\n",
        "# Calcolare autovalori e autovettori di una matrice\n",
        "matrix = np.array([[4, -2], [1, 3]])\n",
        "eigenvalues, eigenvectors = np.linalg.eig(matrix)\n",
        "print(\"Autovalori:\")\n",
        "print(eigenvalues)\n",
        "print(\"Autovettori:\")\n",
        "print(eigenvectors)\n",
        "\n",
        "# Applicare una funzione a tutti gli elementi di un array\n",
        "arr = np.array([-1, 2, -3, 4, -5])\n",
        "abs_values = np.abs(arr)\n",
        "print(\"Valori assoluti:\")\n",
        "print(abs_values)\n",
        "\n",
        "# Filtrare gli elementi di un array basato su una condizione\n",
        "filtered_values = arr[arr > 0]\n",
        "print(\"Valori positivi:\")\n",
        "print(filtered_values)"
      ],
      "metadata": {
        "id": "04iTSVXs7tll",
        "colab": {
          "base_uri": "https://localhost:8080/"
        },
        "outputId": "b35b3d70-25ab-4ce0-ae29-f04ee1c7de3c"
      },
      "execution_count": null,
      "outputs": [
        {
          "output_type": "stream",
          "name": "stdout",
          "text": [
            "Array casuale:\n",
            "[[0.8813265  0.51872064 0.39091731]\n",
            " [0.9517091  0.11727642 0.56585067]\n",
            " [0.14342947 0.88666988 0.65410212]]\n",
            "Array trasposto:\n",
            "[[0.8813265  0.9517091  0.14342947]\n",
            " [0.51872064 0.11727642 0.88666988]\n",
            " [0.39091731 0.56585067 0.65410212]]\n",
            "Prodotto di matrici:\n",
            "[[0.23917663 0.22671366 0.55474175 0.57789049]\n",
            " [0.81096422 0.44208614 1.39575869 1.42592885]]\n",
            "Matrice inversa:\n",
            "[[-2.   1. ]\n",
            " [ 1.5 -0.5]]\n",
            "Soluzione del sistema lineare:\n",
            "[0.8 1.4]\n",
            "Autovalori:\n",
            "[3.5+1.32287566j 3.5-1.32287566j]\n",
            "Autovettori:\n",
            "[[0.81649658+0.j         0.81649658-0.j        ]\n",
            " [0.20412415-0.54006172j 0.20412415+0.54006172j]]\n",
            "Valori assoluti:\n",
            "[1 2 3 4 5]\n",
            "Valori positivi:\n",
            "[2 4]\n"
          ]
        }
      ]
    },
    {
      "cell_type": "markdown",
      "source": [
        "Sempre sul  filtrare  i valori: "
      ],
      "metadata": {
        "id": "9FURoWegOAhb"
      }
    },
    {
      "cell_type": "code",
      "source": [
        "\n",
        "# Creare un array casuale\n",
        "random_array = np.random.randint(-10, 10, size=(5, 5))\n",
        "print(\"Array casuale:\")\n",
        "print(random_array)\n",
        "\n",
        "# Filtrare gli elementi negativi\n",
        "negative_values = random_array[random_array < 0]\n",
        "print(\"Valori negativi:\")\n",
        "print(negative_values)\n",
        "\n",
        "# Filtrare gli elementi pari\n",
        "even_values = random_array[random_array % 2 == 0]\n",
        "print(\"Valori pari:\")\n",
        "print(even_values)\n",
        "\n",
        "# Filtrare gli elementi basati su una condizione complessa\n",
        "filtered_values = random_array[(random_array % 2 == 0) & (random_array > 0)]\n",
        "print(\"Valori pari e positivi:\")\n",
        "print(filtered_values)\n",
        "\n",
        "# Sostituire gli elementi filtrati con un nuovo valore\n",
        "random_array[random_array < 0] = 0\n",
        "print(\"Array con valori negativi sostituiti:\")\n",
        "print(random_array)"
      ],
      "metadata": {
        "colab": {
          "base_uri": "https://localhost:8080/"
        },
        "id": "nI4WNiU9Nz_1",
        "outputId": "b5413268-6738-4203-f362-a391fb7387a4"
      },
      "execution_count": null,
      "outputs": [
        {
          "output_type": "stream",
          "name": "stdout",
          "text": [
            "Array casuale:\n",
            "[[  2  -6  -7  -1  -2]\n",
            " [ -6 -10   8   5   1]\n",
            " [  6  -2  -2   9  -2]\n",
            " [  3  -9  -3  -7  -6]\n",
            " [ -2   1  -3  -2 -10]]\n",
            "Valori negativi:\n",
            "[ -6  -7  -1  -2  -6 -10  -2  -2  -2  -9  -3  -7  -6  -2  -3  -2 -10]\n",
            "Valori pari:\n",
            "[  2  -6  -2  -6 -10   8   6  -2  -2  -2  -6  -2  -2 -10]\n",
            "Valori pari e positivi:\n",
            "[2 8 6]\n",
            "Array con valori negativi sostituiti:\n",
            "[[2 0 0 0 0]\n",
            " [0 0 8 5 1]\n",
            " [6 0 0 9 0]\n",
            " [3 0 0 0 0]\n",
            " [0 1 0 0 0]]\n"
          ]
        }
      ]
    },
    {
      "cell_type": "code",
      "source": [],
      "metadata": {
        "id": "nQdZGqWuODJF"
      },
      "execution_count": null,
      "outputs": []
    }
  ]
}
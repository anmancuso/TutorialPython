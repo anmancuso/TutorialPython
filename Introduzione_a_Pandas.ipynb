{
  "nbformat": 4,
  "nbformat_minor": 0,
  "metadata": {
    "colab": {
      "provenance": [],
      "authorship_tag": "ABX9TyOUHRvq6eyqpoZEnx+DfRjp",
      "include_colab_link": true
    },
    "kernelspec": {
      "name": "python3",
      "display_name": "Python 3"
    },
    "language_info": {
      "name": "python"
    }
  },
  "cells": [
    {
      "cell_type": "markdown",
      "metadata": {
        "id": "view-in-github",
        "colab_type": "text"
      },
      "source": [
        "<a href=\"https://colab.research.google.com/github/anmancuso/TutorialPython/blob/main/Introduzione_a_Pandas.ipynb\" target=\"_parent\"><img src=\"https://colab.research.google.com/assets/colab-badge.svg\" alt=\"Open In Colab\"/></a>"
      ]
    },
    {
      "cell_type": "markdown",
      "source": [
        "# Introduzione a Pandas\n",
        "Pandas è una libreria open-source per la manipolazione e l'analisi dei dati in Python. Fornisce strutture dati e funzioni per lavorare con dati strutturati, come tabelle e serie temporali. In questo tutorial, esploreremo alcune delle funzionalità principali di Pandas."
      ],
      "metadata": {
        "id": "h4lZZtqzCSP6"
      }
    },
    {
      "cell_type": "markdown",
      "source": [
        "## Importazione di Pandas\n",
        "Per utilizzare Pandas nel tuo codice Python, devi importarlo:"
      ],
      "metadata": {
        "id": "YdJ4pwi-CW6F"
      }
    },
    {
      "cell_type": "code",
      "source": [
        "import pandas as pd"
      ],
      "metadata": {
        "id": "n6v0L7aCCabR"
      },
      "execution_count": 1,
      "outputs": []
    },
    {
      "cell_type": "markdown",
      "source": [
        "## Strutture dati\n",
        "Pandas fornisce due principali strutture dati: il DataFrame e la Serie. Noi siamo interessati al dataframe per lo più\n",
        "\n",
        "### DataFrame\n",
        "Il DataFrame di Pandas è una struttura dati tabulare bidimensionale simile a una tabella in un database relazionale o a un foglio di calcolo. Può contenere dati di diversi tipi e supporta operazioni efficienti per l'indicizzazione, il filtraggio, l'aggregazione e altro ancora."
      ],
      "metadata": {
        "id": "S6XaMMMHChpc"
      }
    },
    {
      "cell_type": "code",
      "source": [
        "# Creare un DataFrame da un dizionario\n",
        "data = {'Nome': ['Alice', 'Bob', 'Charlie'],\n",
        "        'Età': [25, 30, 35],\n",
        "        'Città': ['Roma', 'Milano', 'Torino']}\n",
        "df = pd.DataFrame(data)\n",
        "print(df)"
      ],
      "metadata": {
        "colab": {
          "base_uri": "https://localhost:8080/"
        },
        "id": "4k8JXMlRCbv_",
        "outputId": "36257f90-1400-40ff-81e7-a05b8bb1f43f"
      },
      "execution_count": 2,
      "outputs": [
        {
          "output_type": "stream",
          "name": "stdout",
          "text": [
            "      Nome  Età   Città\n",
            "0    Alice   25    Roma\n",
            "1      Bob   30  Milano\n",
            "2  Charlie   35  Torino\n"
          ]
        }
      ]
    },
    {
      "cell_type": "code",
      "source": [
        "# Salvare il dataframe in un formato csv: \n",
        "df.to_csv(\"dati.csv\",index=False)"
      ],
      "metadata": {
        "id": "7ZVoWJC3Cp9Y"
      },
      "execution_count": 4,
      "outputs": []
    },
    {
      "cell_type": "markdown",
      "source": [
        "## Caricamento Dati\n",
        "Pandas offre diverse funzioni per caricare dati da diverse fonti, come file CSV, Excel, database, e altro ancora. Utilizzeremo il caricamento dei dati da un file CSV come esempio."
      ],
      "metadata": {
        "id": "6b2wdKu7C4Yi"
      }
    },
    {
      "cell_type": "code",
      "source": [
        "# Caricare dati da un file CSV\n",
        "df = pd.read_csv('dati.csv')\n",
        "print(df)"
      ],
      "metadata": {
        "colab": {
          "base_uri": "https://localhost:8080/"
        },
        "id": "LAV1G2MACw92",
        "outputId": "d1c4cee8-0aa6-4043-c6eb-d4942c37a525"
      },
      "execution_count": 5,
      "outputs": [
        {
          "output_type": "stream",
          "name": "stdout",
          "text": [
            "      Nome  Età   Città\n",
            "0    Alice   25    Roma\n",
            "1      Bob   30  Milano\n",
            "2  Charlie   35  Torino\n"
          ]
        }
      ]
    },
    {
      "cell_type": "markdown",
      "source": [
        "## Esplorazione Dati\n",
        "Pandas fornisce molte funzioni per esplorare i dati e ottenere informazioni statistiche."
      ],
      "metadata": {
        "id": "78-g6mVEC-C5"
      }
    },
    {
      "cell_type": "code",
      "source": [
        "# Visualizzare le prime righe del DataFrame\n",
        "print(df.head())\n",
        "\n",
        "# Visualizzare le informazioni sul DataFrame\n",
        "print(df.info())\n",
        "\n",
        "# Calcolare statistiche descrittive\n",
        "print(df.describe())\n",
        "\n",
        "# Selezionare una colonna specifica\n",
        "colonna = df['Nome']\n",
        "print(colonna)\n",
        "\n",
        "# Filtrare le righe basate su una condizione\n",
        "filtro = df[df['Età'] > 25]\n",
        "print(filtro)\n",
        "\n",
        "# Ordinare il DataFrame per una colonna\n",
        "ordinato = df.sort_values('Età')\n",
        "print(ordinato)"
      ],
      "metadata": {
        "colab": {
          "base_uri": "https://localhost:8080/"
        },
        "id": "oJJZqOwpC8EF",
        "outputId": "2973b1a1-3cab-4290-cc1e-904bb0a3b2f4"
      },
      "execution_count": 6,
      "outputs": [
        {
          "output_type": "stream",
          "name": "stdout",
          "text": [
            "      Nome  Età   Città\n",
            "0    Alice   25    Roma\n",
            "1      Bob   30  Milano\n",
            "2  Charlie   35  Torino\n",
            "<class 'pandas.core.frame.DataFrame'>\n",
            "RangeIndex: 3 entries, 0 to 2\n",
            "Data columns (total 3 columns):\n",
            " #   Column  Non-Null Count  Dtype \n",
            "---  ------  --------------  ----- \n",
            " 0   Nome    3 non-null      object\n",
            " 1   Età     3 non-null      int64 \n",
            " 2   Città   3 non-null      object\n",
            "dtypes: int64(1), object(2)\n",
            "memory usage: 200.0+ bytes\n",
            "None\n",
            "        Età\n",
            "count   3.0\n",
            "mean   30.0\n",
            "std     5.0\n",
            "min    25.0\n",
            "25%    27.5\n",
            "50%    30.0\n",
            "75%    32.5\n",
            "max    35.0\n",
            "0      Alice\n",
            "1        Bob\n",
            "2    Charlie\n",
            "Name: Nome, dtype: object\n",
            "      Nome  Età   Città\n",
            "1      Bob   30  Milano\n",
            "2  Charlie   35  Torino\n",
            "      Nome  Età   Città\n",
            "0    Alice   25    Roma\n",
            "1      Bob   30  Milano\n",
            "2  Charlie   35  Torino\n"
          ]
        }
      ]
    },
    {
      "cell_type": "markdown",
      "source": [
        "## Manipolazione dati\n",
        "Pandas offre molte funzioni per manipolare i dati, come l'aggiunta o la rimozione di colonne, il raggruppamento dei dati, la sostituzione dei valori mancanti e altro ancora."
      ],
      "metadata": {
        "id": "HRkaSJNgDEZB"
      }
    },
    {
      "cell_type": "code",
      "source": [
        "# Aggiungere una nuova colonna\n",
        "df['Nuova colonna'] = [True, False, True]\n",
        "print(df)\n",
        "\n",
        "# Rimuovere una colonna\n",
        "df = df.drop('Nuova colonna', axis=1)\n",
        "print(df)\n",
        "\n",
        "# Raggruppare i dati e calcolare statistiche di gruppo\n",
        "gruppo = df.groupby('Città')\n",
        "statistiche = gruppo['Età'].mean()\n",
        "print(statistiche)\n",
        "\n",
        "# Sostituire i valori mancanti con un valore specifico\n",
        "df = df.fillna(0)\n",
        "print(df)"
      ],
      "metadata": {
        "colab": {
          "base_uri": "https://localhost:8080/"
        },
        "id": "7GrbRjpdDCdF",
        "outputId": "09b9b34e-98b1-41b7-87a1-eb689b909230"
      },
      "execution_count": 7,
      "outputs": [
        {
          "output_type": "stream",
          "name": "stdout",
          "text": [
            "      Nome  Età   Città  Nuova colonna\n",
            "0    Alice   25    Roma           True\n",
            "1      Bob   30  Milano          False\n",
            "2  Charlie   35  Torino           True\n",
            "      Nome  Età   Città\n",
            "0    Alice   25    Roma\n",
            "1      Bob   30  Milano\n",
            "2  Charlie   35  Torino\n",
            "Città\n",
            "Milano    30.0\n",
            "Roma      25.0\n",
            "Torino    35.0\n",
            "Name: Età, dtype: float64\n",
            "      Nome  Età   Città\n",
            "0    Alice   25    Roma\n",
            "1      Bob   30  Milano\n",
            "2  Charlie   35  Torino\n"
          ]
        }
      ]
    },
    {
      "cell_type": "markdown",
      "source": [
        "## Combiniamo Pandas e numpy!\n",
        "In questo esempio, creiamo un DataFrame da un array NumPy e applichiamo diverse funzioni avanzate. Utilizziamo NumPy per calcolare la radice quadrata di una colonna, trovare il valore massimo di una colonna e aggregare i dati delle colonne A, B e C. Utilizziamo anche Pandas per applicare una funzione personalizzata agli elementi di una colonna utilizzando il metodo apply()."
      ],
      "metadata": {
        "id": "ueaHi3LaDVzB"
      }
    },
    {
      "cell_type": "code",
      "source": [
        "import numpy as np\n",
        "import pandas as pd"
      ],
      "metadata": {
        "id": "0nItKaviDIPj"
      },
      "execution_count": 8,
      "outputs": []
    },
    {
      "cell_type": "code",
      "source": [
        "# Creare un DataFrame da un array NumPy\n",
        "array = np.array([[1, 2, 3], [4, 5, 6], [7, 8, 9]])\n",
        "df = pd.DataFrame(array, columns=['A', 'B', 'C'])\n",
        "print(df)\n",
        "\n",
        "# Applicare una funzione NumPy agli elementi di una colonna\n",
        "df['D'] = np.sqrt(df['C'])\n",
        "print(df)\n",
        "\n",
        "# Calcolare il valore massimo di una colonna utilizzando NumPy\n",
        "max_value = np.max(df['B'])\n",
        "print(\"Valore massimo:\", max_value)\n",
        "\n",
        "# Aggregazione dei dati utilizzando NumPy\n",
        "aggregated_data = np.sum(df[['A', 'B', 'C']], axis=0)\n",
        "print(\"Dati aggregati:\", aggregated_data)\n",
        "\n",
        "# Applicare una funzione personalizzata agli elementi di una colonna utilizzando Pandas e NumPy\n",
        "def custom_function(x):\n",
        "    return np.sqrt(x) * 2\n",
        "\n",
        "df['E'] = df['C'].apply(custom_function)\n",
        "print(df)"
      ],
      "metadata": {
        "colab": {
          "base_uri": "https://localhost:8080/"
        },
        "id": "5MJO6qEZDe56",
        "outputId": "102d01b4-6345-41c7-ef15-576aa0d6e891"
      },
      "execution_count": 9,
      "outputs": [
        {
          "output_type": "stream",
          "name": "stdout",
          "text": [
            "   A  B  C\n",
            "0  1  2  3\n",
            "1  4  5  6\n",
            "2  7  8  9\n",
            "   A  B  C         D\n",
            "0  1  2  3  1.732051\n",
            "1  4  5  6  2.449490\n",
            "2  7  8  9  3.000000\n",
            "Valore massimo: 8\n",
            "Dati aggregati: A    12\n",
            "B    15\n",
            "C    18\n",
            "dtype: int64\n",
            "   A  B  C         D         E\n",
            "0  1  2  3  1.732051  3.464102\n",
            "1  4  5  6  2.449490  4.898979\n",
            "2  7  8  9  3.000000  6.000000\n"
          ]
        }
      ]
    },
    {
      "cell_type": "markdown",
      "source": [
        "## Funzioni più avanzate di Pandas \n"
      ],
      "metadata": {
        "id": "Ea2uLvx5Do_Y"
      }
    },
    {
      "cell_type": "code",
      "source": [
        "# Unione di DataFrame\n",
        "df1 = pd.DataFrame({'A': [1, 2, 3], 'B': [4, 5, 6]})\n",
        "df2 = pd.DataFrame({'A': [7, 8, 9], 'B': [10, 11, 12]})\n",
        "merged_df = pd.concat([df1, df2])\n",
        "print(\"DataFrame uniti:\")\n",
        "print(merged_df)"
      ],
      "metadata": {
        "colab": {
          "base_uri": "https://localhost:8080/"
        },
        "id": "MJQ9QncjDg7z",
        "outputId": "3c85ae34-cf06-4436-ee3f-5e320744770a"
      },
      "execution_count": 11,
      "outputs": [
        {
          "output_type": "stream",
          "name": "stdout",
          "text": [
            "DataFrame uniti:\n",
            "   A   B\n",
            "0  1   4\n",
            "1  2   5\n",
            "2  3   6\n",
            "0  7  10\n",
            "1  8  11\n",
            "2  9  12\n"
          ]
        }
      ]
    },
    {
      "cell_type": "code",
      "source": [
        "# Operazioni di join tra DataFrame\n",
        "df1 = pd.DataFrame({'A': [1, 2, 3], 'B': ['x', 'y', 'z']})\n",
        "df2 = pd.DataFrame({'A': [1, 2, 4], 'C': ['p', 'q', 'r']})\n",
        "joined_df = pd.merge(df1, df2, on='A', how='inner')\n",
        "print(\"DataFrame con join:\")\n",
        "print(joined_df)"
      ],
      "metadata": {
        "colab": {
          "base_uri": "https://localhost:8080/"
        },
        "id": "yRjyxufaDviQ",
        "outputId": "5fab7f6d-af49-4cde-f1a5-d41b6c281a10"
      },
      "execution_count": 12,
      "outputs": [
        {
          "output_type": "stream",
          "name": "stdout",
          "text": [
            "DataFrame con join:\n",
            "   A  B  C\n",
            "0  1  x  p\n",
            "1  2  y  q\n"
          ]
        }
      ]
    },
    {
      "cell_type": "code",
      "source": [
        "# Gestione di valori mancanti\n",
        "df = pd.DataFrame({'A': [1, 2, None, 4, 5], 'B': [None, 2, 3, 4, None]})\n",
        "cleaned_df = df.dropna()  # Rimuovi le righe con valori mancanti\n",
        "filled_df = df.fillna(0)  # Sostituisci i valori mancanti con un valore specifico\n",
        "print(\"DataFrame pulito:\")\n",
        "print(cleaned_df)\n",
        "print(\"DataFrame con valori mancanti sostituiti:\")\n",
        "print(filled_df)"
      ],
      "metadata": {
        "colab": {
          "base_uri": "https://localhost:8080/"
        },
        "id": "u0mkskmfDxZo",
        "outputId": "56ef5538-12cf-4b33-ff7f-96eb4c5f5480"
      },
      "execution_count": 13,
      "outputs": [
        {
          "output_type": "stream",
          "name": "stdout",
          "text": [
            "DataFrame pulito:\n",
            "     A    B\n",
            "1  2.0  2.0\n",
            "3  4.0  4.0\n",
            "DataFrame con valori mancanti sostituiti:\n",
            "     A    B\n",
            "0  1.0  0.0\n",
            "1  2.0  2.0\n",
            "2  0.0  3.0\n",
            "3  4.0  4.0\n",
            "4  5.0  0.0\n"
          ]
        }
      ]
    },
    {
      "cell_type": "code",
      "source": [
        "# Applicazione di funzioni a gruppi di dati\n",
        "df = pd.DataFrame({'A': ['x', 'x', 'y', 'y', 'z'],\n",
        "                   'B': [1, 2, 3, 4, 5],\n",
        "                   'C': [6, 7, 8, 9, 10]})\n",
        "grouped_df = df.groupby('A').agg({'B': 'sum', 'C': 'mean'})\n",
        "print(\"DataFrame raggruppato:\")\n",
        "print(grouped_df)"
      ],
      "metadata": {
        "colab": {
          "base_uri": "https://localhost:8080/"
        },
        "id": "pdTMQc_SDywx",
        "outputId": "c877d937-6019-4b82-f4b2-8e5d53018108"
      },
      "execution_count": 14,
      "outputs": [
        {
          "output_type": "stream",
          "name": "stdout",
          "text": [
            "DataFrame raggruppato:\n",
            "   B     C\n",
            "A         \n",
            "x  3   6.5\n",
            "y  7   8.5\n",
            "z  5  10.0\n"
          ]
        }
      ]
    },
    {
      "cell_type": "code",
      "source": [
        "# Creazione di una nuova colonna basata su una condizione\n",
        "df['D'] = df['B'].apply(lambda x: 'high' if x > 3 else 'low')\n",
        "print(\"DataFrame con nuova colonna:\")\n",
        "print(df)"
      ],
      "metadata": {
        "colab": {
          "base_uri": "https://localhost:8080/"
        },
        "id": "txruaADnD0B5",
        "outputId": "af6c1561-7bde-480c-df86-51a421478918"
      },
      "execution_count": 15,
      "outputs": [
        {
          "output_type": "stream",
          "name": "stdout",
          "text": [
            "DataFrame con nuova colonna:\n",
            "   A  B   C     D\n",
            "0  x  1   6   low\n",
            "1  x  2   7   low\n",
            "2  y  3   8   low\n",
            "3  y  4   9  high\n",
            "4  z  5  10  high\n"
          ]
        }
      ]
    },
    {
      "cell_type": "code",
      "source": [],
      "metadata": {
        "id": "qSLApYwED24R"
      },
      "execution_count": null,
      "outputs": []
    }
  ]
}